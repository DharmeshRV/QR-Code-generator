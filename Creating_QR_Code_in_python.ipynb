{
  "cells": [
    {
      "cell_type": "markdown",
      "metadata": {
        "id": "view-in-github",
        "colab_type": "text"
      },
      "source": [
        "<a href=\"https://colab.research.google.com/github/DharmeshRV/QR-Code-generator/blob/main/Creating_QR_Code_in_python.ipynb\" target=\"_parent\"><img src=\"https://colab.research.google.com/assets/colab-badge.svg\" alt=\"Open In Colab\"/></a>"
      ]
    },
    {
      "cell_type": "code",
      "execution_count": null,
      "id": "4576d401",
      "metadata": {
        "id": "4576d401",
        "outputId": "38d07775-a1a4-477f-8ea8-31c5eebbd345"
      },
      "outputs": [
        {
          "name": "stdout",
          "output_type": "stream",
          "text": [
            "Enter link for code : https://www.linkedin.com/in/dharmesh-verma-b49481170/\n"
          ]
        },
        {
          "data": {
            "image/png": "[encoded data removed]",
            "text/plain": [
              "<PIL.PngImagePlugin.PngImageFile image mode=1 size=294x294 at 0x3CFF713F10>"
            ]
          },
          "execution_count": 7,
          "metadata": {},
          "output_type": "execute_result"
        }
      ],
      "source": [
        "import pyqrcode\n",
        "from PIL import Image\n",
        "link=input(\"Enter link for code : \")\n",
        "qr_code=pyqrcode.create(link)\n",
        "import png\n",
        "qr_code.png(\"QRCode.png\",scale=6)\n",
        "Image.open(\"QRCode.png\")"
      ]
    },
    {
      "cell_type": "code",
      "execution_count": null,
      "id": "c7c9a285",
      "metadata": {
        "id": "c7c9a285"
      },
      "outputs": [],
      "source": []
    }
  ],
  "metadata": {
    "kernelspec": {
      "display_name": "Python 3 (ipykernel)",
      "language": "python",
      "name": "python3"
    },
    "language_info": {
      "codemirror_mode": {
        "name": "ipython",
        "version": 3
      },
      "file_extension": ".py",
      "mimetype": "text/x-python",
      "name": "python",
      "nbconvert_exporter": "python",
      "pygments_lexer": "ipython3",
      "version": "3.9.12"
    },
    "colab": {
      "provenance": [],
      "include_colab_link": true
    }
  },
  "nbformat": 4,
  "nbformat_minor": 5
}